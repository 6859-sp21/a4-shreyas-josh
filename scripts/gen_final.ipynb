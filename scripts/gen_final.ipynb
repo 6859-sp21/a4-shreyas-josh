{
 "cells": [
  {
   "cell_type": "code",
   "execution_count": 6,
   "metadata": {},
   "outputs": [],
   "source": [
    "import numpy as np\n",
    "import matplotlib.pyplot as plt\n",
    "import pandas as pd"
   ]
  },
  {
   "cell_type": "code",
   "execution_count": 7,
   "metadata": {},
   "outputs": [
    {
     "output_type": "execute_result",
     "data": {
      "text/plain": "     ZCTA5   Total  White  Black  AI/AN  Asian  NH/PI\n359  02141  14,522  9,704  1,418     20  2,246     13",
      "text/html": "<div>\n<style scoped>\n    .dataframe tbody tr th:only-of-type {\n        vertical-align: middle;\n    }\n\n    .dataframe tbody tr th {\n        vertical-align: top;\n    }\n\n    .dataframe thead th {\n        text-align: right;\n    }\n</style>\n<table border=\"1\" class=\"dataframe\">\n  <thead>\n    <tr style=\"text-align: right;\">\n      <th></th>\n      <th>ZCTA5</th>\n      <th>Total</th>\n      <th>White</th>\n      <th>Black</th>\n      <th>AI/AN</th>\n      <th>Asian</th>\n      <th>NH/PI</th>\n    </tr>\n  </thead>\n  <tbody>\n    <tr>\n      <th>359</th>\n      <td>02141</td>\n      <td>14,522</td>\n      <td>9,704</td>\n      <td>1,418</td>\n      <td>20</td>\n      <td>2,246</td>\n      <td>13</td>\n    </tr>\n  </tbody>\n</table>\n</div>"
     },
     "metadata": {},
     "execution_count": 7
    }
   ],
   "source": [
    "vdf = pd.read_csv(\"../data/zipcode_vaccine.csv\", dtype={\"ZIP\": str})\n",
    "vdf[\"ZIP\"] = vdf[\"ZIP\"].str.zfill(5)\n",
    "cdf = pd.read_csv(\"../data/race_zipcode.csv\", dtype={\"ZCTA5\": str})\n",
    "cdf[cdf[\"ZCTA5\"] == \"02141\"]"
   ]
  },
  {
   "cell_type": "code",
   "execution_count": 12,
   "metadata": {},
   "outputs": [],
   "source": [
    "def p(s):\n",
    "    return int(s.replace(\",\", \"\").replace(\"*\", \"0\"))\n",
    "\n",
    "final = []\n",
    "\n",
    "from collections import defaultdict\n",
    "\n",
    "black_zip_pops = defaultdict(int)\n",
    "white_zip_pops = defaultdict(int)\n",
    "\n",
    "for index, row in vdf.iterrows():\n",
    "    census = cdf[cdf[\"ZCTA5\"] == row[\"ZIP\"]].squeeze()\n",
    "    if len(census) == 0:\n",
    "        continue\n",
    "\n",
    "    z = row[\"ZIP\"]\n",
    "    white_zip_pops[z] = max(white_zip_pops[z], p(census[\"White\"]))\n",
    "    black_zip_pops[z] = max(black_zip_pops[z], p(census[\"Black\"]))\n",
    "\n",
    "for index, row in vdf.iterrows():\n",
    "    census = cdf[cdf[\"ZCTA5\"] == row[\"ZIP\"]].squeeze()\n",
    "    if len(census) == 0:\n",
    "        continue\n",
    "    \n",
    "    z = row[\"ZIP\"]\n",
    "\n",
    "    final.append({\n",
    "        \"date\": row[\"Date\"],\n",
    "        \"zip\": row[\"ZIP\"],\n",
    "        \"Black\": p(row[\"Black\"]),\n",
    "        \"White\": p(row[\"White\"]),\n",
    "        \"BlackPop\": black_zip_pops[z],\n",
    "        \"WhitePop\": white_zip_pops[z],\n",
    "        \"TotalPop\": p(census[\"Total\"])\n",
    "    })"
   ]
  },
  {
   "cell_type": "code",
   "execution_count": 13,
   "metadata": {},
   "outputs": [],
   "source": [
    "import ujson as json\n",
    "with open(\"../vis/src/assets/combined.json\", \"w\") as f:\n",
    "    json.dump(final, f)"
   ]
  },
  {
   "cell_type": "code",
   "execution_count": 5,
   "metadata": {},
   "outputs": [
    {
     "output_type": "execute_result",
     "data": {
      "text/plain": "              Date    ZIP AI/AN Asian Black Hispanic Multi NH/PI Other White  \\\n0    March-11-2021  01001     *    38    46       70    32     *   451  3050   \n1    March-11-2021  01002     *   186   120      117    53     *   280  3722   \n2    March-11-2021  01003     *     *     *        *     *     *     *    86   \n3    March-11-2021  01004     *     *     *        *     *     *     *    70   \n4    March-11-2021  01005     *     *     *        *     *     *     *   864   \n..             ...    ...   ...   ...   ...      ...   ...   ...   ...   ...   \n680  March-11-2021  02777     *     *     *       37     *     *   209  3085   \n681  March-11-2021  02779     *     *     *        *     *     *    50  1021   \n682  March-11-2021  02780     *    41   468      374    83     *   422  6259   \n683  March-11-2021  02790     *     *     *       43     *     *   202  3655   \n684  March-11-2021  02791     *     *     *        *     *     *     *    82   \n\n    Unknown  \n0       173  \n1       240  \n2         *  \n3         *  \n4        84  \n..      ...  \n680     277  \n681      80  \n682     814  \n683     327  \n684       *  \n\n[685 rows x 11 columns]",
      "text/html": "<div>\n<style scoped>\n    .dataframe tbody tr th:only-of-type {\n        vertical-align: middle;\n    }\n\n    .dataframe tbody tr th {\n        vertical-align: top;\n    }\n\n    .dataframe thead th {\n        text-align: right;\n    }\n</style>\n<table border=\"1\" class=\"dataframe\">\n  <thead>\n    <tr style=\"text-align: right;\">\n      <th></th>\n      <th>Date</th>\n      <th>ZIP</th>\n      <th>AI/AN</th>\n      <th>Asian</th>\n      <th>Black</th>\n      <th>Hispanic</th>\n      <th>Multi</th>\n      <th>NH/PI</th>\n      <th>Other</th>\n      <th>White</th>\n      <th>Unknown</th>\n    </tr>\n  </thead>\n  <tbody>\n    <tr>\n      <th>0</th>\n      <td>March-11-2021</td>\n      <td>01001</td>\n      <td>*</td>\n      <td>38</td>\n      <td>46</td>\n      <td>70</td>\n      <td>32</td>\n      <td>*</td>\n      <td>451</td>\n      <td>3050</td>\n      <td>173</td>\n    </tr>\n    <tr>\n      <th>1</th>\n      <td>March-11-2021</td>\n      <td>01002</td>\n      <td>*</td>\n      <td>186</td>\n      <td>120</td>\n      <td>117</td>\n      <td>53</td>\n      <td>*</td>\n      <td>280</td>\n      <td>3722</td>\n      <td>240</td>\n    </tr>\n    <tr>\n      <th>2</th>\n      <td>March-11-2021</td>\n      <td>01003</td>\n      <td>*</td>\n      <td>*</td>\n      <td>*</td>\n      <td>*</td>\n      <td>*</td>\n      <td>*</td>\n      <td>*</td>\n      <td>86</td>\n      <td>*</td>\n    </tr>\n    <tr>\n      <th>3</th>\n      <td>March-11-2021</td>\n      <td>01004</td>\n      <td>*</td>\n      <td>*</td>\n      <td>*</td>\n      <td>*</td>\n      <td>*</td>\n      <td>*</td>\n      <td>*</td>\n      <td>70</td>\n      <td>*</td>\n    </tr>\n    <tr>\n      <th>4</th>\n      <td>March-11-2021</td>\n      <td>01005</td>\n      <td>*</td>\n      <td>*</td>\n      <td>*</td>\n      <td>*</td>\n      <td>*</td>\n      <td>*</td>\n      <td>*</td>\n      <td>864</td>\n      <td>84</td>\n    </tr>\n    <tr>\n      <th>...</th>\n      <td>...</td>\n      <td>...</td>\n      <td>...</td>\n      <td>...</td>\n      <td>...</td>\n      <td>...</td>\n      <td>...</td>\n      <td>...</td>\n      <td>...</td>\n      <td>...</td>\n      <td>...</td>\n    </tr>\n    <tr>\n      <th>680</th>\n      <td>March-11-2021</td>\n      <td>02777</td>\n      <td>*</td>\n      <td>*</td>\n      <td>*</td>\n      <td>37</td>\n      <td>*</td>\n      <td>*</td>\n      <td>209</td>\n      <td>3085</td>\n      <td>277</td>\n    </tr>\n    <tr>\n      <th>681</th>\n      <td>March-11-2021</td>\n      <td>02779</td>\n      <td>*</td>\n      <td>*</td>\n      <td>*</td>\n      <td>*</td>\n      <td>*</td>\n      <td>*</td>\n      <td>50</td>\n      <td>1021</td>\n      <td>80</td>\n    </tr>\n    <tr>\n      <th>682</th>\n      <td>March-11-2021</td>\n      <td>02780</td>\n      <td>*</td>\n      <td>41</td>\n      <td>468</td>\n      <td>374</td>\n      <td>83</td>\n      <td>*</td>\n      <td>422</td>\n      <td>6259</td>\n      <td>814</td>\n    </tr>\n    <tr>\n      <th>683</th>\n      <td>March-11-2021</td>\n      <td>02790</td>\n      <td>*</td>\n      <td>*</td>\n      <td>*</td>\n      <td>43</td>\n      <td>*</td>\n      <td>*</td>\n      <td>202</td>\n      <td>3655</td>\n      <td>327</td>\n    </tr>\n    <tr>\n      <th>684</th>\n      <td>March-11-2021</td>\n      <td>02791</td>\n      <td>*</td>\n      <td>*</td>\n      <td>*</td>\n      <td>*</td>\n      <td>*</td>\n      <td>*</td>\n      <td>*</td>\n      <td>82</td>\n      <td>*</td>\n    </tr>\n  </tbody>\n</table>\n<p>685 rows × 11 columns</p>\n</div>"
     },
     "metadata": {},
     "execution_count": 5
    }
   ],
   "source": [
    "vdf[vdf[\"Date\"] == \"March-11-2021\"]"
   ]
  },
  {
   "cell_type": "code",
   "execution_count": 6,
   "metadata": {},
   "outputs": [
    {
     "output_type": "execute_result",
     "data": {
      "text/plain": "array(['March-11-2021', 'March-18-2021', 'March-25-2021', 'April-1-2021',\n       'April-8-2021', 'April-15-2021'], dtype=object)"
     },
     "metadata": {},
     "execution_count": 6
    }
   ],
   "source": [
    "vdf[\"Date\"].unique()"
   ]
  },
  {
   "cell_type": "code",
   "execution_count": null,
   "metadata": {},
   "outputs": [],
   "source": []
  }
 ],
 "metadata": {
  "language_info": {
   "codemirror_mode": {
    "name": "ipython",
    "version": 3
   },
   "file_extension": ".py",
   "mimetype": "text/x-python",
   "name": "python",
   "nbconvert_exporter": "python",
   "pygments_lexer": "ipython3",
   "version": "3.8.3-final"
  },
  "orig_nbformat": 2,
  "kernelspec": {
   "name": "python3",
   "display_name": "Python 3",
   "metadata": {
    "interpreter": {
     "hash": "4cbf3faae2aaa46a82fb14125b46c7432004b93007f4575b8a330870e7e967a9"
    }
   }
  }
 },
 "nbformat": 4,
 "nbformat_minor": 2
}