{
 "metadata": {
  "language_info": {
   "codemirror_mode": {
    "name": "ipython",
    "version": 3
   },
   "file_extension": ".py",
   "mimetype": "text/x-python",
   "name": "python",
   "nbconvert_exporter": "python",
   "pygments_lexer": "ipython3",
   "version": "3.6.10-final"
  },
  "orig_nbformat": 2,
  "kernelspec": {
   "name": "python3",
   "display_name": "Python 3.6.10 64-bit ('tensorflow2': conda)",
   "metadata": {
    "interpreter": {
     "hash": "4cbf3faae2aaa46a82fb14125b46c7432004b93007f4575b8a330870e7e967a9"
    }
   }
  }
 },
 "nbformat": 4,
 "nbformat_minor": 2,
 "cells": [
  {
   "cell_type": "code",
   "execution_count": 1,
   "metadata": {},
   "outputs": [
    {
     "output_type": "stream",
     "name": "stderr",
     "text": [
      "C:\\Anaconda3\\envs\\tensorflow2\\lib\\importlib\\_bootstrap.py:219: RuntimeWarning: numpy.ufunc size changed, may indicate binary incompatibility. Expected 192 from C header, got 216 from PyObject\n  return f(*args, **kwds)\n"
     ]
    }
   ],
   "source": [
    "import numpy as np\n",
    "import matplotlib.pyplot as plt\n",
    "import pandas as pd"
   ]
  },
  {
   "cell_type": "code",
   "execution_count": 53,
   "metadata": {},
   "outputs": [
    {
     "output_type": "execute_result",
     "data": {
      "text/plain": [
       "     ZCTA5   Total  White  Black  AI/AN  Asian  NH/PI\n",
       "359  02141  14,522  9,704  1,418     20  2,246     13"
      ],
      "text/html": "<div>\n<style scoped>\n    .dataframe tbody tr th:only-of-type {\n        vertical-align: middle;\n    }\n\n    .dataframe tbody tr th {\n        vertical-align: top;\n    }\n\n    .dataframe thead th {\n        text-align: right;\n    }\n</style>\n<table border=\"1\" class=\"dataframe\">\n  <thead>\n    <tr style=\"text-align: right;\">\n      <th></th>\n      <th>ZCTA5</th>\n      <th>Total</th>\n      <th>White</th>\n      <th>Black</th>\n      <th>AI/AN</th>\n      <th>Asian</th>\n      <th>NH/PI</th>\n    </tr>\n  </thead>\n  <tbody>\n    <tr>\n      <th>359</th>\n      <td>02141</td>\n      <td>14,522</td>\n      <td>9,704</td>\n      <td>1,418</td>\n      <td>20</td>\n      <td>2,246</td>\n      <td>13</td>\n    </tr>\n  </tbody>\n</table>\n</div>"
     },
     "metadata": {},
     "execution_count": 53
    }
   ],
   "source": [
    "vdf = pd.read_csv(\"../data/zipcode_vaccine.csv\", dtype={\"ZIP\": str})\n",
    "vdf[\"ZIP\"] = vdf[\"ZIP\"].str.zfill(5)\n",
    "cdf = pd.read_csv(\"../data/race_zipcode.csv\", dtype={\"ZCTA5\": str})\n",
    "cdf[cdf[\"ZCTA5\"] == \"02141\"]"
   ]
  },
  {
   "cell_type": "code",
   "execution_count": 56,
   "metadata": {},
   "outputs": [],
   "source": [
    "def p(s):\n",
    "    return int(s.replace(\",\", \"\").replace(\"*\", \"0\"))\n",
    "\n",
    "final = []\n",
    "for index, row in vdf.iterrows():\n",
    "    census = cdf[cdf[\"ZCTA5\"] == row[\"ZIP\"]].squeeze()\n",
    "    if len(census) == 0:\n",
    "        continue\n",
    "\n",
    "    final.append({\n",
    "        \"date\": row[\"Date\"],\n",
    "        \"zip\": row[\"ZIP\"],\n",
    "        \"Black\": p(row[\"Black\"]),\n",
    "        \"White\": p(row[\"White\"]),\n",
    "        \"BlackPop\": p(census[\"Black\"]),\n",
    "        \"WhitePop\": p(census[\"White\"]),\n",
    "        \"TotalPop\": p(census[\"Total\"])\n",
    "    })"
   ]
  },
  {
   "cell_type": "code",
   "execution_count": 57,
   "metadata": {},
   "outputs": [],
   "source": [
    "import ujson as json\n",
    "with open(\"../vis/src/assets/combined.json\", \"w\") as f:\n",
    "    json.dump(final, f)"
   ]
  },
  {
   "cell_type": "code",
   "execution_count": 55,
   "metadata": {},
   "outputs": [
    {
     "output_type": "execute_result",
     "data": {
      "text/plain": [
       "              Date          ZIP AI/AN Asian Black Hispanic Multi NH/PI Other  \\\n",
       "0    March-11-2021        01001     *    38    46       70    32     *   451   \n",
       "1    March-11-2021        01002     *   186   120      117    53     *   280   \n",
       "2    March-11-2021        01003     *     *     *        *     *     *     *   \n",
       "3    March-11-2021        01004     *     *     *        *     *     *     *   \n",
       "4    March-11-2021        01005     *     *     *        *     *     *     *   \n",
       "..             ...          ...   ...   ...   ...      ...   ...   ...   ...   \n",
       "681  March-11-2021        02779     *     *     *        *     *     *    50   \n",
       "682  March-11-2021        02780     *    41   468      374    83     *   422   \n",
       "683  March-11-2021        02790     *     *     *       43     *     *   202   \n",
       "684  March-11-2021        02791     *     *     *        *     *     *     *   \n",
       "685  March-11-2021  Unspecified    76  2157  1715     1915   410    42  6369   \n",
       "\n",
       "     White Uknown  \n",
       "0     3050    173  \n",
       "1     3722    240  \n",
       "2       86      *  \n",
       "3       70      *  \n",
       "4      864     84  \n",
       "..     ...    ...  \n",
       "681   1021     80  \n",
       "682   6259    814  \n",
       "683   3655    327  \n",
       "684     82      *  \n",
       "685  34354  25523  \n",
       "\n",
       "[686 rows x 11 columns]"
      ],
      "text/html": "<div>\n<style scoped>\n    .dataframe tbody tr th:only-of-type {\n        vertical-align: middle;\n    }\n\n    .dataframe tbody tr th {\n        vertical-align: top;\n    }\n\n    .dataframe thead th {\n        text-align: right;\n    }\n</style>\n<table border=\"1\" class=\"dataframe\">\n  <thead>\n    <tr style=\"text-align: right;\">\n      <th></th>\n      <th>Date</th>\n      <th>ZIP</th>\n      <th>AI/AN</th>\n      <th>Asian</th>\n      <th>Black</th>\n      <th>Hispanic</th>\n      <th>Multi</th>\n      <th>NH/PI</th>\n      <th>Other</th>\n      <th>White</th>\n      <th>Uknown</th>\n    </tr>\n  </thead>\n  <tbody>\n    <tr>\n      <th>0</th>\n      <td>March-11-2021</td>\n      <td>01001</td>\n      <td>*</td>\n      <td>38</td>\n      <td>46</td>\n      <td>70</td>\n      <td>32</td>\n      <td>*</td>\n      <td>451</td>\n      <td>3050</td>\n      <td>173</td>\n    </tr>\n    <tr>\n      <th>1</th>\n      <td>March-11-2021</td>\n      <td>01002</td>\n      <td>*</td>\n      <td>186</td>\n      <td>120</td>\n      <td>117</td>\n      <td>53</td>\n      <td>*</td>\n      <td>280</td>\n      <td>3722</td>\n      <td>240</td>\n    </tr>\n    <tr>\n      <th>2</th>\n      <td>March-11-2021</td>\n      <td>01003</td>\n      <td>*</td>\n      <td>*</td>\n      <td>*</td>\n      <td>*</td>\n      <td>*</td>\n      <td>*</td>\n      <td>*</td>\n      <td>86</td>\n      <td>*</td>\n    </tr>\n    <tr>\n      <th>3</th>\n      <td>March-11-2021</td>\n      <td>01004</td>\n      <td>*</td>\n      <td>*</td>\n      <td>*</td>\n      <td>*</td>\n      <td>*</td>\n      <td>*</td>\n      <td>*</td>\n      <td>70</td>\n      <td>*</td>\n    </tr>\n    <tr>\n      <th>4</th>\n      <td>March-11-2021</td>\n      <td>01005</td>\n      <td>*</td>\n      <td>*</td>\n      <td>*</td>\n      <td>*</td>\n      <td>*</td>\n      <td>*</td>\n      <td>*</td>\n      <td>864</td>\n      <td>84</td>\n    </tr>\n    <tr>\n      <th>...</th>\n      <td>...</td>\n      <td>...</td>\n      <td>...</td>\n      <td>...</td>\n      <td>...</td>\n      <td>...</td>\n      <td>...</td>\n      <td>...</td>\n      <td>...</td>\n      <td>...</td>\n      <td>...</td>\n    </tr>\n    <tr>\n      <th>681</th>\n      <td>March-11-2021</td>\n      <td>02779</td>\n      <td>*</td>\n      <td>*</td>\n      <td>*</td>\n      <td>*</td>\n      <td>*</td>\n      <td>*</td>\n      <td>50</td>\n      <td>1021</td>\n      <td>80</td>\n    </tr>\n    <tr>\n      <th>682</th>\n      <td>March-11-2021</td>\n      <td>02780</td>\n      <td>*</td>\n      <td>41</td>\n      <td>468</td>\n      <td>374</td>\n      <td>83</td>\n      <td>*</td>\n      <td>422</td>\n      <td>6259</td>\n      <td>814</td>\n    </tr>\n    <tr>\n      <th>683</th>\n      <td>March-11-2021</td>\n      <td>02790</td>\n      <td>*</td>\n      <td>*</td>\n      <td>*</td>\n      <td>43</td>\n      <td>*</td>\n      <td>*</td>\n      <td>202</td>\n      <td>3655</td>\n      <td>327</td>\n    </tr>\n    <tr>\n      <th>684</th>\n      <td>March-11-2021</td>\n      <td>02791</td>\n      <td>*</td>\n      <td>*</td>\n      <td>*</td>\n      <td>*</td>\n      <td>*</td>\n      <td>*</td>\n      <td>*</td>\n      <td>82</td>\n      <td>*</td>\n    </tr>\n    <tr>\n      <th>685</th>\n      <td>March-11-2021</td>\n      <td>Unspecified</td>\n      <td>76</td>\n      <td>2157</td>\n      <td>1715</td>\n      <td>1915</td>\n      <td>410</td>\n      <td>42</td>\n      <td>6369</td>\n      <td>34354</td>\n      <td>25523</td>\n    </tr>\n  </tbody>\n</table>\n<p>686 rows × 11 columns</p>\n</div>"
     },
     "metadata": {},
     "execution_count": 55
    }
   ],
   "source": [
    "vdf[vdf[\"Date\"] == \"March-11-2021\"]"
   ]
  },
  {
   "cell_type": "code",
   "execution_count": 58,
   "metadata": {},
   "outputs": [
    {
     "output_type": "execute_result",
     "data": {
      "text/plain": [
       "array(['March-11-2021', 'March-18-2021', 'March-25-2021', 'April-1-2021'],\n",
       "      dtype=object)"
      ]
     },
     "metadata": {},
     "execution_count": 58
    }
   ],
   "source": [
    "vdf[\"Date\"].unique()"
   ]
  },
  {
   "cell_type": "code",
   "execution_count": null,
   "metadata": {},
   "outputs": [],
   "source": []
  }
 ]
}